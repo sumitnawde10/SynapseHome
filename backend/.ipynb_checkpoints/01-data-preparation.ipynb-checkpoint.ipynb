{
 "cells": [
  {
   "cell_type": "code",
   "execution_count": 1,
   "id": "6154983b-ea2f-43ef-8a3a-135af3ec68f3",
   "metadata": {},
   "outputs": [
    {
     "name": "stdout",
     "output_type": "stream",
     "text": [
      "Renewable Data Head:\n",
      "         Date  Consumption  Wind  Solar  Wind+Solar\n",
      "0  01-01-2006     1069.184   NaN    NaN         NaN\n",
      "1  01-02-2006     1380.521   NaN    NaN         NaN\n",
      "2  01-03-2006     1442.533   NaN    NaN         NaN\n",
      "3  01-04-2006     1457.217   NaN    NaN         NaN\n",
      "4  01-05-2006     1477.131   NaN    NaN         NaN\n",
      "\n",
      "Household Data Head:\n",
      "         Date      Time Global_active_power Global_reactive_power  Voltage  \\\n",
      "0  16/12/2006  17:24:00               4.216                 0.418  234.840   \n",
      "1  16/12/2006  17:25:00               5.360                 0.436  233.630   \n",
      "2  16/12/2006  17:26:00               5.374                 0.498  233.290   \n",
      "3  16/12/2006  17:27:00               5.388                 0.502  233.740   \n",
      "4  16/12/2006  17:28:00               3.666                 0.528  235.680   \n",
      "\n",
      "  Global_intensity Sub_metering_1 Sub_metering_2  Sub_metering_3  \n",
      "0           18.400          0.000          1.000            17.0  \n",
      "1           23.000          0.000          1.000            16.0  \n",
      "2           23.000          0.000          2.000            17.0  \n",
      "3           23.000          0.000          1.000            17.0  \n",
      "4           15.800          0.000          1.000            17.0  \n"
     ]
    }
   ],
   "source": [
    "import pandas as pd\n",
    "import matplotlib.pyplot as plt\n",
    "\n",
    "# Load the renewable energy data\n",
    "df_renewable = pd.read_csv('data/renewable_power_data.csv')\n",
    "\n",
    "# Load the household consumption data\n",
    "df_household = pd.read_csv('data/household_power_consumption.csv', sep=';', low_memory=False)\n",
    "\n",
    "print(\"Renewable Data Head:\")\n",
    "print(df_renewable.head())\n",
    "print(\"\\nHousehold Data Head:\")\n",
    "print(df_household.head())"
   ]
  },
  {
   "cell_type": "code",
   "execution_count": 2,
   "id": "31ca47e1-9880-44c3-baf6-c14a0f251c22",
   "metadata": {},
   "outputs": [
    {
     "name": "stdout",
     "output_type": "stream",
     "text": [
      "Renewable Data Info after cleaning:\n",
      "<class 'pandas.core.frame.DataFrame'>\n",
      "DatetimeIndex: 4383 entries, 2006-01-01 to 2017-12-31\n",
      "Data columns (total 4 columns):\n",
      " #   Column       Non-Null Count  Dtype  \n",
      "---  ------       --------------  -----  \n",
      " 0   Consumption  4383 non-null   float64\n",
      " 1   Wind         4383 non-null   float64\n",
      " 2   Solar        4383 non-null   float64\n",
      " 3   Wind+Solar   4383 non-null   float64\n",
      "dtypes: float64(4)\n",
      "memory usage: 171.2 KB\n",
      "\n",
      "Missing values check:\n",
      "Consumption    0\n",
      "Wind           0\n",
      "Solar          0\n",
      "Wind+Solar     0\n",
      "dtype: int64\n"
     ]
    }
   ],
   "source": [
    "# --- Cleaning the Renewable Energy DataFrame ---\n",
    "\n",
    "# Convert the 'Date' column to a proper datetime format\n",
    "df_renewable['Date'] = pd.to_datetime(df_renewable['Date'], format='mixed')\n",
    "\n",
    "# Set the 'Date' column as the index of the DataFrame\n",
    "df_renewable = df_renewable.set_index('Date')\n",
    "\n",
    "# UPDATED: Using the modern .ffill() method instead of the old one\n",
    "df_renewable['Solar'] = df_renewable['Solar'].ffill()\n",
    "df_renewable['Wind'] = df_renewable['Wind'].ffill()\n",
    "\n",
    "# Let's also fill any remaining missing values at the beginning with 0\n",
    "df_renewable = df_renewable.fillna(0)\n",
    "\n",
    "# Verify the changes\n",
    "print(\"Renewable Data Info after cleaning:\")\n",
    "df_renewable.info()\n",
    "\n",
    "print(\"\\nMissing values check:\")\n",
    "print(df_renewable.isnull().sum())"
   ]
  },
  {
   "cell_type": "code",
   "execution_count": 4,
   "id": "47216c79-5ac1-4885-9a3f-49876d696c9f",
   "metadata": {},
   "outputs": [
    {
     "name": "stdout",
     "output_type": "stream",
     "text": [
      "Household Data Info after cleaning and resampling:\n",
      "datetime\n",
      "2006-12-16 17:00:00    4.222889\n",
      "2006-12-16 18:00:00    3.632200\n",
      "2006-12-16 19:00:00    3.400233\n",
      "2006-12-16 20:00:00    3.268567\n",
      "2006-12-16 21:00:00    3.056467\n",
      "Freq: h, Name: Global_active_power, dtype: float64\n",
      "\n",
      "Missing values check:\n",
      "0\n"
     ]
    }
   ],
   "source": [
    "# --- Cleaning the Household Consumption DataFrame ---\n",
    "\n",
    "# Combine 'Date' and 'Time' into a single datetime index\n",
    "df_household['datetime'] = pd.to_datetime(df_household['Date'] + ' ' + df_household['Time'], dayfirst=True)\n",
    "df_household = df_household.set_index('datetime')\n",
    "\n",
    "# The numerical columns have missing values represented as '?'. We'll replace them with NaN\n",
    "# and convert the columns to a numeric type.\n",
    "df_household['Global_active_power'] = pd.to_numeric(df_household['Global_active_power'], errors='coerce')\n",
    "\n",
    "# UPDATED: Using the modern .ffill() method\n",
    "df_household['Global_active_power'] = df_household['Global_active_power'].ffill()\n",
    "\n",
    "# The data is per-minute. Let's resample it to hourly sums.\n",
    "# UPDATED: Using 'h' (lowercase) for hourly resampling as suggested\n",
    "df_household_hourly = df_household['Global_active_power'].resample('h').mean()\n",
    "\n",
    "# Verify the changes\n",
    "print(\"Household Data Info after cleaning and resampling:\")\n",
    "print(df_household_hourly.head())\n",
    "\n",
    "print(\"\\nMissing values check:\")\n",
    "print(df_household_hourly.isnull().sum())"
   ]
  },
  {
   "cell_type": "code",
   "execution_count": 5,
   "id": "9b227405-5315-4f81-bf71-dfbdd6e196dc",
   "metadata": {},
   "outputs": [
    {
     "name": "stdout",
     "output_type": "stream",
     "text": [
      "Renewable data with new features:\n",
      "            Consumption  Wind  Solar  Wind+Solar  hour  dayofweek  month  year\n",
      "Date                                                                          \n",
      "2006-01-01     1069.184   0.0    0.0         0.0     0          6      1  2006\n",
      "2006-01-02     1380.521   0.0    0.0         0.0     0          0      1  2006\n",
      "2006-01-03     1442.533   0.0    0.0         0.0     0          1      1  2006\n",
      "2006-01-04     1457.217   0.0    0.0         0.0     0          2      1  2006\n",
      "2006-01-05     1477.131   0.0    0.0         0.0     0          3      1  2006\n",
      "\n",
      "Household data with new features:\n",
      "                     Global_active_power  hour  dayofweek  month  year\n",
      "datetime                                                              \n",
      "2006-12-16 17:00:00             4.222889    17          5     12  2006\n",
      "2006-12-16 18:00:00             3.632200    18          5     12  2006\n",
      "2006-12-16 19:00:00             3.400233    19          5     12  2006\n",
      "2006-12-16 20:00:00             3.268567    20          5     12  2006\n",
      "2006-12-16 21:00:00             3.056467    21          5     12  2006\n"
     ]
    }
   ],
   "source": [
    "# Create features for the renewable energy data\n",
    "def create_features(df):\n",
    "    df['hour'] = df.index.hour\n",
    "    df['dayofweek'] = df.index.dayofweek\n",
    "    df['month'] = df.index.month\n",
    "    df['year'] = df.index.year\n",
    "    return df\n",
    "\n",
    "df_renewable = create_features(df_renewable)\n",
    "\n",
    "# Create features for the household consumption data\n",
    "# We need to convert the Series back to a DataFrame first\n",
    "df_household_hourly = df_household_hourly.to_frame()\n",
    "df_household_hourly = create_features(df_household_hourly)\n",
    "\n",
    "print(\"Renewable data with new features:\")\n",
    "print(df_renewable.head())\n",
    "\n",
    "print(\"\\nHousehold data with new features:\")\n",
    "print(df_household_hourly.head())"
   ]
  },
  {
   "cell_type": "code",
   "execution_count": 6,
   "id": "382d9fea-7d63-4319-b087-a7693f05ca3c",
   "metadata": {},
   "outputs": [
    {
     "name": "stdout",
     "output_type": "stream",
     "text": [
      "Solar model trained and saved successfully!\n"
     ]
    }
   ],
   "source": [
    "from sklearn.model_selection import train_test_split\n",
    "from sklearn.ensemble import RandomForestRegressor\n",
    "from sklearn.metrics import mean_squared_error\n",
    "import joblib # For saving the model\n",
    "\n",
    "# --- Train Solar Model ---\n",
    "\n",
    "# Define our features (X) and our target (y)\n",
    "FEATURES = ['hour', 'dayofweek', 'month', 'year']\n",
    "TARGET_SOLAR = 'Solar'\n",
    "\n",
    "X_solar = df_renewable[FEATURES]\n",
    "y_solar = df_renewable[TARGET_SOLAR]\n",
    "\n",
    "# Split data into training and testing sets\n",
    "X_train_solar, X_test_solar, y_train_solar, y_test_solar = train_test_split(X_solar, y_solar, test_size=0.2, random_state=42)\n",
    "\n",
    "# Initialize and train the model\n",
    "solar_model = RandomForestRegressor(n_estimators=100, random_state=42, n_jobs=-1)\n",
    "solar_model.fit(X_train_solar, y_train_solar)\n",
    "\n",
    "# Save the trained model to a file\n",
    "joblib.dump(solar_model, 'solar_production_model.joblib')\n",
    "\n",
    "print(\"Solar model trained and saved successfully!\")"
   ]
  },
  {
   "cell_type": "code",
   "execution_count": 7,
   "id": "13f8b2dc-a8dd-453a-9726-f0c5c6af32b0",
   "metadata": {},
   "outputs": [
    {
     "name": "stdout",
     "output_type": "stream",
     "text": [
      "Wind model trained and saved successfully!\n"
     ]
    }
   ],
   "source": [
    "# --- Train Wind Model ---\n",
    "\n",
    "TARGET_WIND = 'Wind'\n",
    "X_wind = df_renewable[FEATURES]\n",
    "y_wind = df_renewable[TARGET_WIND]\n",
    "\n",
    "X_train_wind, X_test_wind, y_train_wind, y_test_wind = train_test_split(X_wind, y_wind, test_size=0.2, random_state=42)\n",
    "\n",
    "wind_model = RandomForestRegressor(n_estimators=100, random_state=42, n_jobs=-1)\n",
    "wind_model.fit(X_train_wind, y_train_wind)\n",
    "\n",
    "joblib.dump(wind_model, 'wind_production_model.joblib')\n",
    "print(\"Wind model trained and saved successfully!\")"
   ]
  },
  {
   "cell_type": "code",
   "execution_count": 8,
   "id": "8ca1f3fa-730b-4dfb-a262-aa2473ac3917",
   "metadata": {},
   "outputs": [
    {
     "name": "stdout",
     "output_type": "stream",
     "text": [
      "Household demand model trained and saved successfully!\n"
     ]
    }
   ],
   "source": [
    "# --- Train Household Demand Model ---\n",
    "\n",
    "TARGET_DEMAND = 'Global_active_power'\n",
    "X_demand = df_household_hourly[FEATURES]\n",
    "y_demand = df_household_hourly[TARGET_DEMAND]\n",
    "\n",
    "X_train_demand, X_test_demand, y_train_demand, y_test_demand = train_test_split(X_demand, y_demand, test_size=0.2, random_state=42)\n",
    "\n",
    "demand_model = RandomForestRegressor(n_estimators=100, random_state=42, n_jobs=-1)\n",
    "demand_model.fit(X_train_demand, y_train_demand)\n",
    "\n",
    "joblib.dump(demand_model, 'household_demand_model.joblib')\n",
    "print(\"Household demand model trained and saved successfully!\")"
   ]
  }
 ],
 "metadata": {
  "kernelspec": {
   "display_name": "Python 3 (ipykernel)",
   "language": "python",
   "name": "python3"
  },
  "language_info": {
   "codemirror_mode": {
    "name": "ipython",
    "version": 3
   },
   "file_extension": ".py",
   "mimetype": "text/x-python",
   "name": "python",
   "nbconvert_exporter": "python",
   "pygments_lexer": "ipython3",
   "version": "3.12.3"
  }
 },
 "nbformat": 4,
 "nbformat_minor": 5
}
